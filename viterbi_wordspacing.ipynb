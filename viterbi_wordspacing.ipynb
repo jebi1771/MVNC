{
 "cells": [
  {
   "cell_type": "code",
   "execution_count": 1,
   "metadata": {
    "collapsed": true
   },
   "outputs": [],
   "source": [
    "import re\n",
    "from itertools import groupby\n",
    "from elementtree.ElementTree import Element, ElementTree, SubElement, dump, parse, tostring  \n"
   ]
  },
  {
   "cell_type": "code",
   "execution_count": 2,
   "metadata": {
    "collapsed": false
   },
   "outputs": [
    {
     "name": "stdout",
     "output_type": "stream",
     "text": [
      "['Abbey of Saint Gall', 'Basilica of Saint Peter Vatican', 'Basilica of St Mary of Health Venice', 'Campo Santo Pisa', 'Canadian National Vimy Memorial France', 'Casas Grandes Chihuahua Mexico', 'El Infiernito Boyaca Colombia', 'Fort Stanwix New York', 'George Washington Birthplace Virginia', 'Hosios Loukas Monastery Greece', 'Kaiser Wilhelm Denkmal', 'Leaning Tower of Pisa', 'Liberty Hall Georgia', 'Louvre piramid Paris', 'Monastery of Batalha', 'National Museum of Art of Romania', 'Philopappos Monument', 'Quinta Vergara Vina del Mar Chile', 'Royal Palace of Caserta', 'Tottenham High Cross', 'Trento Cathedral', 'Tuskegee University', 'Villa della Regina Turin', 'Wupatki National Monument Arizona', 'Wurzburg Residence Germany']\n",
      "25\n"
     ]
    }
   ],
   "source": [
    "path = \"../Div400/devset/devsetkeywords/\"\n",
    "\n",
    "# read topic file\n",
    "topicpath = path+\"devsetkeywords_topics.xml\"\n",
    "topicXML = open(topicpath, 'r')\n",
    "tree = parse(topicXML)\n",
    "root = tree.getroot()\n",
    "\n",
    "topics = []\n",
    "for element in root.findall('topic'):\n",
    "    topics.append(element.findtext('title'))\n",
    "\n",
    "print topics\n",
    "print len(topics)"
   ]
  },
  {
   "cell_type": "code",
   "execution_count": 4,
   "metadata": {
    "collapsed": false
   },
   "outputs": [],
   "source": [
    "f = open(\"big.txt\", 'w')\n",
    "vec = []\n",
    "for topic in topics:\n",
    "    targetpath = path+\"xml/\"+topic+\".xml\"\n",
    "    targetXML = open(targetpath, 'r')\n",
    "    tree = parse(targetXML)\n",
    "    root = tree.getroot()\n",
    "\n",
    "    #print topic\n",
    "    for neighbor in root.getiterator('photo'):\n",
    "        desc = neighbor.attrib.get('description')\n",
    "        f.write(desc.encode('utf8') + \"\\n\")\n",
    "\n",
    "f.close()"
   ]
  },
  {
   "cell_type": "code",
   "execution_count": 42,
   "metadata": {
    "collapsed": false
   },
   "outputs": [],
   "source": [
    "def viterbi_segment(text):\n",
    "    probs, lasts = [1.0], [0]\n",
    "    for i in range(1, len(text) + 1):\n",
    "        prob_k, k = max((probs[j] * word_prob(text[j:i]), j)\n",
    "                        for j in range(max(0, i - max_word_length), i))\n",
    "        probs.append(prob_k)\n",
    "        lasts.append(k)\n",
    "    words = []\n",
    "    i = len(text)\n",
    "    while 0 < i:\n",
    "        words.append(text[lasts[i]:i])\n",
    "        i = lasts[i]\n",
    "    words.reverse()\n",
    "    #return words, probs[-1]\n",
    "    return words\n",
    "\n",
    "def word_prob(word): return dictionary.get(word, 0) / total\n",
    "def words(text): return re.findall('[a-z]+', text.lower()) \n",
    "\n",
    "dictionary = dict((w, len(list(ws)))\n",
    "                  for w, ws in groupby(sorted(words(open('big.txt').read()))))\n",
    "max_word_length = max(map(len, dictionary))\n",
    "total = float(sum(dictionary.values()))\n"
   ]
  },
  {
   "cell_type": "code",
   "execution_count": 43,
   "metadata": {
    "collapsed": false
   },
   "outputs": [
    {
     "data": {
      "text/plain": [
       "['dominicans']"
      ]
     },
     "execution_count": 43,
     "metadata": {},
     "output_type": "execute_result"
    }
   ],
   "source": [
    "viterbi_segment('dominicans')"
   ]
  },
  {
   "cell_type": "code",
   "execution_count": 68,
   "metadata": {
    "collapsed": false
   },
   "outputs": [
    {
     "name": "stdout",
     "output_type": "stream",
     "text": [
      "[['dominican'], ['ruins'], ['ireland'], ['roscommon'], ['saint'], ['mary', 's'], ['mary'], ['norman'], ['church'], ['catholic'], ['architecture'], ['gall'], ['irish', 'dominicans'], ['irish', 'priories'], ['dominican', 'priories', 'in', 'ireland'], ['history', 'of', 'the', 'irish', 'dominicans'], ['dominican', 'houses'], ['the', 'irish', 'dominicans'], ['gallowglass'], ['b', 'on', 'au', 'g', 'h', 't'], ['national', 'is', 'm', 'irish'], ['scots'], ['mercenary'], ['mercenaries']]\n",
      "[['dominican'], ['dominicans'], ['cavan'], ['belturbet'], ['milltown'], ['ireland'], ['kilmore'], ['bishop'], ['history']]\n",
      "['dominican', 'ireland']\n",
      "['dominican', 'ireland', 'dominican', 'dominican', 'ireland', 'ireland', 'irishdominicans', 'dominicans', 'dominicanprioriesinireland', 'dominican', 'dominicanprioriesinireland', 'ireland', 'historyoftheirishdominicans', 'dominicans', 'historyoftheirishdominicans', 'history', 'dominicanhouses', 'dominican', 'theirishdominicans', 'dominicans']\n",
      "['dominicanhouses', 'dominican', 'irishdominicans', 'dominicanprioriesinireland', 'ireland', 'historyoftheirishdominicans', 'theirishdominicans', 'dominicans', 'history']\n"
     ]
    }
   ],
   "source": [
    "A = ['dominican', 'ruins', 'ireland', 'roscommon', 'saint', 'marys', 'mary', 'norman', 'church', 'catholic', 'architecture', 'gall', 'irishdominicans', 'irishpriories', 'dominicanprioriesinireland', 'historyoftheirishdominicans', 'dominicanhouses', 'theirishdominicans', 'gallowglass', 'bonaught', 'nationalismirish', 'scots', 'mercenary', 'mercenaries']\n",
    "B = ['dominican', 'dominicans', 'cavan', 'belturbet', 'milltown', 'ireland', 'kilmore', 'bishop', 'history']\n",
    "inter = list(set(A) & set(B))\n",
    "vA = [viterbi_segment(A[i]) for i in range(len(A))]\n",
    "vB = [viterbi_segment(B[i]) for i in range(len(B))]\n",
    "print vA\n",
    "print vB\n",
    "\n",
    "print inter\n",
    "\n",
    "for i in range(len(A)):\n",
    "    for j in range(len(B)):\n",
    "        if len(list(set(viterbi_segment(A[i])) & set(viterbi_segment(B[j])))) > 0:\n",
    "            inter.append(A[i])\n",
    "            inter.append(B[j])\n",
    "            \n",
    "print inter           \n",
    "print list(set(inter))    "
   ]
  },
  {
   "cell_type": "code",
   "execution_count": null,
   "metadata": {
    "collapsed": true
   },
   "outputs": [],
   "source": []
  }
 ],
 "metadata": {
  "kernelspec": {
   "display_name": "Python 2",
   "language": "python",
   "name": "python2"
  },
  "language_info": {
   "codemirror_mode": {
    "name": "ipython",
    "version": 2
   },
   "file_extension": ".py",
   "mimetype": "text/x-python",
   "name": "python",
   "nbconvert_exporter": "python",
   "pygments_lexer": "ipython2",
   "version": "2.7.10"
  }
 },
 "nbformat": 4,
 "nbformat_minor": 0
}
